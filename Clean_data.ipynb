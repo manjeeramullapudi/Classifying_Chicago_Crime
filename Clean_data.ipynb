{
 "cells": [
  {
   "cell_type": "markdown",
   "metadata": {},
   "source": [
    "# DATA CLEANING\n",
    "The below code is trying to replace the null values and update the date time formats"
   ]
  },
  {
   "cell_type": "code",
   "execution_count": 1,
   "metadata": {},
   "outputs": [],
   "source": [
    "#Importing the libraries \n",
    "import sys\n",
    "import pandas as pd\n",
    "import matplotlib.pyplot as plt"
   ]
  },
  {
   "cell_type": "code",
   "execution_count": 2,
   "metadata": {},
   "outputs": [],
   "source": [
    "#The below code is to set the input and ouput path \n",
    "def main():\n",
    "    \n",
    "    '''main function: Collect the argument1 and argument2 as input file path and output file path '''\n",
    "    \n",
    "    input_file = sys.argv[1]\n",
    "    output_file = sys.argv[2]\n",
    "    data_wrangling(input_file, output_file)"
   ]
  },
  {
   "cell_type": "code",
   "execution_count": 10,
   "metadata": {},
   "outputs": [],
   "source": [
    "# Replacing the null values in the dataset\n",
    "def replace_null(df):\n",
    "    \n",
    "    '''Replace_null function is to replace all null values in the dataframe'''\n",
    "    \n",
    "    if df.isnull().values.any() == True:\n",
    "        df.fillna(\" \")\n",
    "    return df"
   ]
  },
  {
   "cell_type": "code",
   "execution_count": 4,
   "metadata": {},
   "outputs": [],
   "source": [
    "#Updating the date and time formats to a new column\n",
    "def update_datatime(df, col, new_col, req):\n",
    "    \n",
    "    '''updating the datatime function to update the Date-format column to a new column by \n",
    "       the specific requirements (i.e. date or time)'''\n",
    "    \n",
    "    if req == \"date\":\n",
    "        df[new_col] = [d.date() for d in df[col]]\n",
    "    elif req == \"time\":\n",
    "        df[new_col] = [d.time() for d in df[col]]"
   ]
  },
  {
   "cell_type": "code",
   "execution_count": 5,
   "metadata": {},
   "outputs": [],
   "source": [
    "def update_boolean(df, col):\n",
    "    \n",
    "    '''update_boolean function will update a boolean column (i.e. True/False) to 1/0'''\n",
    "    \n",
    "    df[[col]] *= 1"
   ]
  },
  {
   "cell_type": "code",
   "execution_count": 6,
   "metadata": {},
   "outputs": [],
   "source": [
    "def export_clean_data(df, output_file):\n",
    "    \n",
    "    '''export_clean_data function is used to generate a csv file for the clean dataset'''\n",
    "    \n",
    "    df.to_csv(output_file, index=False)"
   ]
  },
  {
   "cell_type": "code",
   "execution_count": 7,
   "metadata": {},
   "outputs": [],
   "source": [
    "def data_wrangling(input_file, output_file):\n",
    "    \n",
    "    '''data_wrangling function takes two arguments (i.e. input_file path and output_file path),\n",
    "       and generate a clean dataset'''"
   ]
  },
  {
   "cell_type": "code",
   "execution_count": 11,
   "metadata": {},
   "outputs": [],
   "source": [
    "#import raw dataset\n",
    "crime_data = pd.read_csv('/Users/manje/Documents/MANJEERA/SEM 2/BIG DATA ANALYTICS/TECHNIAL PROJECT/Crimes_-_2001_to_present.csv')\n",
    "crime_clean_data = crime_data.fillna(\" \")\n",
    "crime_clean_data.Date = pd.to_datetime(crime_clean_data.Date)\n"
   ]
  },
  {
   "cell_type": "code",
   "execution_count": 12,
   "metadata": {},
   "outputs": [
    {
     "name": "stdout",
     "output_type": "stream",
     "text": [
      "(7032560, 22)\n",
      "(7032560, 22)\n"
     ]
    }
   ],
   "source": [
    "print(crime_data.shape)\n",
    "print(crime_clean_data.shape)"
   ]
  },
  {
   "cell_type": "code",
   "execution_count": 13,
   "metadata": {},
   "outputs": [],
   "source": [
    "#update data types for `Date`, `Arrest`, and `Domestic`\n",
    "update_datatime(crime_clean_data, 'Date', 'Crime_Date', 'date')\n",
    "update_datatime(crime_clean_data, 'Date', 'Crime_Time', 'time')\n",
    "\n",
    "for col in ['Arrest', 'Domestic']:\n",
    "    update_boolean(crime_clean_data, col)"
   ]
  },
  {
   "cell_type": "code",
   "execution_count": 10,
   "metadata": {},
   "outputs": [
    {
     "name": "stderr",
     "output_type": "stream",
     "text": [
      "C:\\Users\\manje\\Anaconda3\\lib\\site-packages\\ipykernel_launcher.py:10: SettingWithCopyWarning: \n",
      "A value is trying to be set on a copy of a slice from a DataFrame.\n",
      "Try using .loc[row_indexer,col_indexer] = value instead\n",
      "\n",
      "See the caveats in the documentation: http://pandas.pydata.org/pandas-docs/stable/user_guide/indexing.html#returning-a-view-versus-a-copy\n",
      "  # Remove the CWD from sys.path while we load stuff.\n",
      "C:\\Users\\manje\\Anaconda3\\lib\\site-packages\\pandas\\core\\indexing.py:494: SettingWithCopyWarning: \n",
      "A value is trying to be set on a copy of a slice from a DataFrame.\n",
      "Try using .loc[row_indexer,col_indexer] = value instead\n",
      "\n",
      "See the caveats in the documentation: http://pandas.pydata.org/pandas-docs/stable/user_guide/indexing.html#returning-a-view-versus-a-copy\n",
      "  self.obj[item] = s\n"
     ]
    }
   ],
   "source": [
    "crime_clean_data[['Primary Type']] = crime_clean_data['Primary Type'].replace(['THEFT', 'BURGLARY', 'MOTOR VEHICLE THEFT', 'ROBBERY' ,'BATTERY', 'CRIM SEXUAL ASSAULT',\n",
    "                                        'SEX OFFENSE' , 'NARCOTICS','OTHER NARCOTIC VIOLATION' , 'ASSAULT', 'INTIMIDATION',\n",
    "                                        'OTHER OFFENSE' , 'DECEPTIVE PRACTICE' , 'CRIMINAL TRESPASS' , 'WEAPONS VIOLATION', \n",
    "                                        'CONCEALED CARRY LICENSE VIOLATION','PUBLIC INDECENCY', 'PUBLIC PEACE VIOLATION',\n",
    "                                        'OFFENSE INVOLVING CHILDREN','PROSTITUTION','INTERFERENCE WITH PUBLIC OFFICER','HOMICIDE',\n",
    "                                        'ARSON', 'CRIMINAL DAMAGE','GAMBLING','LIQUOR LAW VIOLATION','KIDNAPPING','STALKING', \n",
    "                                        'OBSCENITY','NON-CRIMINAL','NON-CRIMINAL', 'NON-CRIMINAL (SUBJECT SPECIFIED)','HUMAN TRAFFICKING']\n",
    "                    ,['THEFT','THEFT','THEFT','THEFT','SEXUAL ASSAULT','SEXUAL ASSAULT','SEXUAL ASSAULT','NARCOTICS','NARCOTICS','ASSAULT','ASSAULT','OTHER OFFENSE','DECETIVE PRACTICE',\n",
    "                      'CRIMINAL TRESPASS','WEAPONS VIOLATION','WEAPONS VIOLATION','PUBLIC INDECENCY','PUBLIC INDECENCY','OFFENSE INVOLVING CHILDREN','PROSTITUTION','INTERFERENCE WITH PUBLIC OFFICER',\n",
    "                      'HOMICIDE','ARSON','ARSON','GAMBLING','LIQUOR LAW VIOLATION','KIDNAPPING','STALKING','STALKING','NON-CRIMINAL','NON-CRIMINAL','NON-CRIMINAL','HUMAN TRAFFICKING'])"
   ]
  },
  {
   "cell_type": "markdown",
   "metadata": {},
   "source": [
    "Exporting data to an output location"
   ]
  },
  {
   "cell_type": "code",
   "execution_count": 14,
   "metadata": {},
   "outputs": [],
   "source": [
    "export_clean_data(crime_clean_data, '/Users/manje/Documents/MANJEERA/SEM 2/BIG DATA ANALYTICS/TECHNIAL PROJECT/output_file_final.csv')\n",
    "\n",
    "#call main function\n",
    "if __name__ == '__main__':\n",
    "    main()"
   ]
  },
  {
   "cell_type": "code",
   "execution_count": null,
   "metadata": {},
   "outputs": [],
   "source": []
  }
 ],
 "metadata": {
  "kernelspec": {
   "display_name": "Python 3",
   "language": "python",
   "name": "python3"
  },
  "language_info": {
   "codemirror_mode": {
    "name": "ipython",
    "version": 3
   },
   "file_extension": ".py",
   "mimetype": "text/x-python",
   "name": "python",
   "nbconvert_exporter": "python",
   "pygments_lexer": "ipython3",
   "version": "3.7.4"
  }
 },
 "nbformat": 4,
 "nbformat_minor": 2
}
